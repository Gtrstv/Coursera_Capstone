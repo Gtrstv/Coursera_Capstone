{
 "metadata": {
  "language_info": {
   "codemirror_mode": {
    "name": "ipython",
    "version": 3
   },
   "file_extension": ".py",
   "mimetype": "text/x-python",
   "name": "python",
   "nbconvert_exporter": "python",
   "pygments_lexer": "ipython3",
   "version": "3.8.5-final"
  },
  "orig_nbformat": 2,
  "kernelspec": {
   "name": "python3",
   "display_name": "Python 3.8.5 64-bit ('PythonIBM': conda)",
   "metadata": {
    "interpreter": {
     "hash": "11eb7b0514ce6e3bb9188e244fe3baf58be06a5316edc0531cae52557ede83c1"
    }
   }
  }
 },
 "nbformat": 4,
 "nbformat_minor": 2,
 "cells": [
  {
   "source": [
    "<h1 align=\"center\">Coursera IBM Capstone Project - Applied Data Science</h1>"
   ],
   "cell_type": "markdown",
   "metadata": {}
  },
  {
   "source": [
    " <h2 align=\"center\">Prepared by Stephan G. Maher</h2>"
   ],
   "cell_type": "markdown",
   "metadata": {}
  },
  {
   "source": [
    "<h3 align=\"center\">Part 1 WEEK3 Final Assignment</h3>"
   ],
   "cell_type": "markdown",
   "metadata": {}
  },
  {
   "source": [
    "<h3>I''m providing these markdown notes, but there is also comments for most cells </h3>"
   ],
   "cell_type": "markdown",
   "metadata": {}
  },
  {
   "cell_type": "code",
   "execution_count": 1,
   "metadata": {},
   "outputs": [
    {
     "output_type": "display_data",
     "data": {
      "text/plain": "<IPython.core.display.HTML object>",
      "text/html": "<style>.container { width:100% !important; }</style>"
     },
     "metadata": {}
    },
    {
     "output_type": "display_data",
     "data": {
      "text/plain": "<IPython.core.display.HTML object>",
      "text/html": "<style>.output_result { max-width:100% !important; }</style>"
     },
     "metadata": {}
    },
    {
     "output_type": "display_data",
     "data": {
      "text/plain": "<IPython.core.display.HTML object>",
      "text/html": "<style>.prompt { display:none !important; }</style>"
     },
     "metadata": {}
    }
   ],
   "source": [
    "#import packages for scrape,Geo Data and set pandas options\n",
    "import pandas as pd\n",
    "pd.set_option('display.max_columns', None)\n",
    "pd.set_option('display.max_rows', None)\n",
    "import numpy as np\n",
    "import urllib.request\n",
    "from bs4 import BeautifulSoup\n",
    "import lxml\n",
    "import json # library to handle JSON files\n",
    "import requests # library to handle requests\n",
    "from pandas.io.json import json_normalize # tranform JSON file into a pandas dataframe\n",
    "import geocoder\n",
    "#Import libraries for Clustering\n",
    "import matplotlib.cm as cm\n",
    "import matplotlib.colors as colors\n",
    "from sklearn.cluster import KMeans\n",
    "#Import geocoder to get location of Toronto\n",
    "from geopy.geocoders import Nominatim # convert an address into latitude and longitude values\n",
    "#Import Folium to create map.\n",
    "import folium\n",
    "\n",
    "from IPython.core.display import display, HTML\n",
    "display(HTML(\"<style>.container { width:100% !important; }</style>\"))\n",
    "display(HTML(\"<style>.output_result { max-width:100% !important; }</style>\"))\n",
    "display(HTML(\"<style>.prompt { display:none !important; }</style>\"))"
   ]
  },
  {
   "source": [
    "#### 1. Scrape Webiste and prepare initial Data Frame"
   ],
   "cell_type": "markdown",
   "metadata": {}
  },
  {
   "cell_type": "code",
   "execution_count": 2,
   "metadata": {
    "tags": []
   },
   "outputs": [],
   "source": [
    "# specify web page  to be scraped, parse the HTML and reformat\n",
    "url = \"https://en.wikipedia.org/wiki/List_of_postal_codes_of_Canada:_M\"\n",
    "page = urllib.request.urlopen(url)\n",
    "soup = BeautifulSoup(page, \"lxml\")\n",
    "# print(soup.prettify) #uncomment to see raw data"
   ]
  },
  {
   "cell_type": "code",
   "execution_count": 3,
   "metadata": {},
   "outputs": [
    {
     "output_type": "execute_result",
     "data": {
      "text/plain": [
       "'List of postal codes of Canada: M - Wikipedia'"
      ]
     },
     "metadata": {},
     "execution_count": 3
    }
   ],
   "source": [
    "# find the title of table\n",
    "soup.title\n",
    "soup.title.string"
   ]
  },
  {
   "cell_type": "code",
   "execution_count": 4,
   "metadata": {},
   "outputs": [],
   "source": [
    "#Pull wikitable sortable into a variable\n",
    "my_table=soup.find('table', class_='wikitable sortable')\n",
    "#my_table # un-comment to see raw data"
   ]
  },
  {
   "cell_type": "code",
   "execution_count": 5,
   "metadata": {},
   "outputs": [],
   "source": [
    "#Create lists of column data\n",
    "A=[]\n",
    "B=[]\n",
    "C=[]\n",
    "for row in my_table.findAll('tr'):\n",
    "    cells=row.findAll('td')\n",
    "    if len(cells)==3:\n",
    "        A.append(cells[0].find(text=True))\n",
    "        B.append(cells[1].find(text=True))\n",
    "        C.append(cells[2].find(text=True))  "
   ]
  },
  {
   "cell_type": "code",
   "execution_count": 6,
   "metadata": {},
   "outputs": [],
   "source": [
    "#Adjust lists to remove /n\n",
    "a=[a[:-1] for a in A]\n",
    "b=[b[:-1] for b in B]\n",
    "c=[c[:-1] for c in C]"
   ]
  },
  {
   "cell_type": "code",
   "execution_count": 7,
   "metadata": {},
   "outputs": [
    {
     "output_type": "stream",
     "name": "stdout",
     "text": [
      "(180, 3)\n  Postal Code           Borough               Neighborhood\n0         M1A      Not assigned               Not assigned\n1         M2A      Not assigned               Not assigned\n2         M3A        North York                  Parkwoods\n3         M4A        North York           Victoria Village\n4         M5A  Downtown Toronto  Regent Park, Harbourfront\n"
     ]
    }
   ],
   "source": [
    "# Create the base dataframe\n",
    "# after this step perform data cleaning for df\n",
    "df=pd.DataFrame(a,columns=['Postal Code'])\n",
    "df['Borough']=b\n",
    "df['Neighborhood']=c\n",
    "print(df.shape)\n",
    "print(df.head())"
   ]
  },
  {
   "source": [
    "<h3>Cleaning df Steps</h3>\n",
    "<h3>1 discard Not assigned Boroughs </h3>\n",
    "<h3>2 duplicate postal codes with different neighborhoods should be combined into 1 postal code and a comma seperated list of Neighborhoods </h3>\n",
    "<h3>3 If the neigborhood is Not Assigned, use the Borough Assignment </h3>\n",
    "<h3>4 Create the shape of the final df </h3>\n",
    "<h3>5 Submit workbook to Github </h3>\n",
    "<h3> </h3>\n",
    "\n"
   ],
   "cell_type": "markdown",
   "metadata": {}
  },
  {
   "cell_type": "code",
   "execution_count": 8,
   "metadata": {},
   "outputs": [
    {
     "output_type": "stream",
     "name": "stdout",
     "text": [
      "(180, 3)\nNot assigned        77\nNorth York          24\nDowntown Toronto    19\nScarborough         17\nEtobicoke           12\nCentral Toronto      9\nWest Toronto         6\nYork                 5\nEast York            5\nEast Toronto         5\nMississauga          1\nName: Borough, dtype: int64\n"
     ]
    }
   ],
   "source": [
    "# 1 discard empty Borough rows\n",
    "print(df.shape) #(180,3)\n",
    "print(df['Borough'].value_counts()) #77 Not Assigned\n",
    "df['Borough'].replace('Not assigned',np.nan,inplace=True)\n",
    "df.dropna(subset=[\"Borough\"], axis=0, inplace=True)\n",
    "df['Postal Code'].sort_values()\n",
    "df.reset_index(drop=True, inplace=True)\n",
    "#print(df.head(10))\n",
    "#df.shape #S/b 180-77 reindex shape(103,3)"
   ]
  },
  {
   "source": [
    "<h3>A review of the data shows that there are 77 Boroughs Not Assigned </h3>\n",
    "<h3>The initial shape (180,3> is adjusted by removing those 77 Boroughs </h3>\n",
    "<h3>The final shape is (103,3) as displayed below along with the dataframe </h3>\n",
    "<h3> a review of data shows no other cleaning steps are needed. </h3>\n",
    "<h3> </h3>"
   ],
   "cell_type": "markdown",
   "metadata": {}
  },
  {
   "source": [
    "<h3 align=\"center\"> Submit Week3Final Question 1</h3>"
   ],
   "cell_type": "markdown",
   "metadata": {}
  },
  {
   "cell_type": "code",
   "execution_count": 9,
   "metadata": {},
   "outputs": [
    {
     "output_type": "stream",
     "name": "stdout",
     "text": [
      "(103, 3)\n  Postal Code           Borough                                 Neighborhood\n0         M3A        North York                                    Parkwoods\n1         M4A        North York                             Victoria Village\n2         M5A  Downtown Toronto                    Regent Park, Harbourfront\n3         M6A        North York             Lawrence Manor, Lawrence Heights\n4         M7A  Downtown Toronto  Queen's Park, Ontario Provincial Government\n"
     ]
    }
   ],
   "source": [
    "print(df.shape)\n",
    "print(df.head())"
   ]
  },
  {
   "source": [
    "<h2 align=\"center\">Start Question 2 </h2>\n",
    "<h3>1 create the function get_Geocode that will pull 'latitude' and 'longitude' for the submitted 'Postal Code' </h3>\n",
    "<h3>2 create a function call that reads the df dataframe and submits each postal code and stores the codes and latitude, longitude info to series. </h3>\n",
    "<h3>3 insert the series information to a dataframe df_geo </h3>\n",
    "<h3> </h3>"
   ],
   "cell_type": "markdown",
   "metadata": {}
  },
  {
   "source": [
    "#Function to pull Geo Data by Postal Code(PC)\n",
    "\n",
    "def get_Geocode(PC):\n",
    "    lat_lng_coords = None\n",
    "    i=0\n",
    "    while (lat_lng_coords is None):\n",
    "        g=geocoder.arcgis('{},Toronto, Ontario'.format(PC))\n",
    "        lat_lng_coords = g.latlng\n",
    "        i+=1\n",
    "        if i > 70:\n",
    "            return None\n",
    "        else:      \n",
    "            return lat_lng_coords\n",
    "    \n"
   ],
   "cell_type": "code",
   "metadata": {},
   "execution_count": 10,
   "outputs": []
  },
  {
   "cell_type": "code",
   "execution_count": 11,
   "metadata": {},
   "outputs": [],
   "source": [
    "#Loop through df Postal Codes and collect Lat long data\n",
    "A=[]\n",
    "B=[]\n",
    "C=[]\n",
    "for PC in df['Postal Code']:\n",
    "    LL=get_Geocode(PC)\n",
    "    if LL is None:\n",
    "        print(\"Error\")\n",
    "        break\n",
    "    else:\n",
    "        A.append(PC)\n",
    "        B.append(LL[0])\n",
    "        C.append(LL[1])\n"
   ]
  },
  {
   "cell_type": "code",
   "execution_count": 12,
   "metadata": {},
   "outputs": [
    {
     "output_type": "stream",
     "name": "stdout",
     "text": [
      "(103, 3)\n  Postal Code  Latitude  Longitude\n0         M3A  43.75245  -79.32991\n1         M4A  43.73057  -79.31306\n2         M5A  43.65512  -79.36264\n3         M6A  43.72327  -79.45042\n4         M7A  43.66253  -79.39188\n5         M9A  43.66263  -79.52831\n6         M1B  43.81139  -79.19662\n7         M3B  43.74923  -79.36186\n8         M4B  43.70718  -79.31192\n9         M5B  43.65739  -79.37804\n"
     ]
    }
   ],
   "source": [
    "df_geo=pd.DataFrame(A,columns=['Postal Code'])\n",
    "df_geo['Latitude']=B\n",
    "df_geo['Longitude']=C\n",
    "print(df_geo.shape)\n",
    "print(df_geo.head(10))"
   ]
  },
  {
   "source": [
    "<h3>The steps above run the geo-coder and pull the Latitude and longitude for each zip code</h3>\n",
    "<h3>There aren't seperate Latitude and longitude for each neighborhood, but there are for each borough </h3>\n",
    "<h3>I plan to use the Boroughs in Toronto City proper and rename them to neighborhoods </h3>\n",
    "<h3>This leads to 4 boroughs which I will use as centriods </h3>"
   ],
   "cell_type": "markdown",
   "metadata": {}
  },
  {
   "source": [
    "<h3>1 Sort the Original Dataframe and the Geo dataframe by Postal Code </h3>\n",
    "<h3>2 merge the dataframes by matching Postal Codes </h3>\n",
    "<h3>3 Print Question2 Dataframe head</h3>"
   ],
   "cell_type": "markdown",
   "metadata": {}
  },
  {
   "cell_type": "code",
   "execution_count": 13,
   "metadata": {},
   "outputs": [],
   "source": [
    "#sort the dataframes by postal code\n",
    "df.sort_values(['Postal Code'])\n",
    "df.reset_index(drop=True, inplace=True)\n",
    "df_geo.sort_values(['Postal Code'])\n",
    "df_geo.reset_index(drop=True, inplace=True)\n"
   ]
  },
  {
   "source": [
    "<h3>Show dataframe needed for Question2 </h3>"
   ],
   "cell_type": "markdown",
   "metadata": {}
  },
  {
   "cell_type": "code",
   "execution_count": 14,
   "metadata": {},
   "outputs": [
    {
     "output_type": "stream",
     "name": "stdout",
     "text": [
      "(103, 5)\n  Postal Code           Borough                                 Neighborhood  \\\n0         M3A        North York                                    Parkwoods   \n1         M4A        North York                             Victoria Village   \n2         M5A  Downtown Toronto                    Regent Park, Harbourfront   \n3         M6A        North York             Lawrence Manor, Lawrence Heights   \n4         M7A  Downtown Toronto  Queen's Park, Ontario Provincial Government   \n\n   Latitude  Longitude  \n0  43.75245  -79.32991  \n1  43.73057  -79.31306  \n2  43.65512  -79.36264  \n3  43.72327  -79.45042  \n4  43.66253  -79.39188  \n"
     ]
    }
   ],
   "source": [
    "#Code to join the geographical columns from csv to project df by \"Postal Code\"\n",
    "col = ['Postal Code']\n",
    "df=df.join(df_geo.set_index(col), on=col)\n",
    "print(df.shape)\n",
    "print(df.head())"
   ]
  },
  {
   "source": [
    "<h2 align=\"center\"> Submit Week3Final Question 2</h2>\n",
    "<h2 align=\"center\">See Shape and head above</h2>"
   ],
   "cell_type": "markdown",
   "metadata": {}
  },
  {
   "source": [
    "<h2 align=\"center\">Question 3 Analyse Toronto neighborhood</h2>"
   ],
   "cell_type": "markdown",
   "metadata": {}
  },
  {
   "source": [
    "<h3>I'm selecting the Boroughs inside the city limits of Toronto </h3>\n",
    "<h3>I then create the datafeame 'Toronto_Data' which exlcudes the neigborhoods outside of Toronto </h3>\n",
    "<h3>Finally I rename the 'Borough' column to 'neighborhood' </h3>\n",
    "<h3>Individual Neigborhoods would have the same(duplicate) postal code </h3>\n",
    "<h3>Each Borough has a unique Postal Code</h3"
   ],
   "cell_type": "markdown",
   "metadata": {}
  },
  {
   "cell_type": "code",
   "execution_count": 15,
   "metadata": {},
   "outputs": [
    {
     "output_type": "stream",
     "name": "stdout",
     "text": [
      "  Postal Code      neighborhood  Latitude  Longitude\n0         M5A  Downtown Toronto  43.65512  -79.36264\n1         M7A  Downtown Toronto  43.66253  -79.39188\n2         M5B  Downtown Toronto  43.65739  -79.37804\n3         M5C  Downtown Toronto  43.65215  -79.37587\n4         M4E      East Toronto  43.67709  -79.29547\n(39, 4)\n['Downtown Toronto' 'East Toronto' 'West Toronto' 'Central Toronto']\n"
     ]
    }
   ],
   "source": [
    "#Select Boroughs in Toronto and change the description to neighborhood\n",
    "Toronto_data = df[['Postal Code','Borough','Latitude','Longitude']]\n",
    "Toronto_data = Toronto_data[Toronto_data['Borough'].str.contains('Toronto')].reset_index(drop=True)\n",
    "Toronto_data = Toronto_data.rename(columns={'Borough':'neighborhood'})\n",
    "print(Toronto_data.head())\n",
    "print(Toronto_data.shape)\n",
    "uniqueValues = Toronto_data['neighborhood'].unique()\n",
    "print(uniqueValues)"
   ]
  },
  {
   "cell_type": "code",
   "execution_count": 16,
   "metadata": {},
   "outputs": [
    {
     "output_type": "stream",
     "name": "stdout",
     "text": [
      "The geograpical coordinates of Toronto are 43.6534817, -79.3839347.\n"
     ]
    }
   ],
   "source": [
    "#get city coordinates for map background\n",
    "address = 'Toronto, Ontario'\n",
    "geolocator = Nominatim(user_agent=\"Tor_explorer\")\n",
    "location = geolocator.geocode(address)\n",
    "latitude = location.latitude\n",
    "longitude = location.longitude\n",
    "print('The geograpical coordinates of Toronto are {}, {}.'.format(latitude, longitude))"
   ]
  },
  {
   "cell_type": "code",
   "execution_count": 17,
   "metadata": {},
   "outputs": [
    {
     "output_type": "execute_result",
     "data": {
      "text/plain": [
       "<folium.folium.Map at 0x2631fb75670>"
      ],
      "text/html": "<div style=\"width:100%;\"><div style=\"position:relative;width:100%;height:0;padding-bottom:60%;\"><span style=\"color:#565656\">Make this Notebook Trusted to load map: File -> Trust Notebook</span><iframe src=\"about:blank\" style=\"position:absolute;width:100%;height:100%;left:0;top:0;border:none !important;\" data-html=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 onload=\"this.contentDocument.open();this.contentDocument.write(atob(this.getAttribute('data-html')));this.contentDocument.close();\" allowfullscreen webkitallowfullscreen mozallowfullscreen></iframe></div></div>"
     },
     "metadata": {},
     "execution_count": 17
    }
   ],
   "source": [
    "#Create the map and plot all current data points by Borough in the City\n",
    "Toranto_map = folium.Map(location=[latitude, longitude], zoom_start=10)\n",
    "\n",
    "#Plot the neighbourhoods\n",
    "for lat, lng, postal_code, neighborhood in zip(Toronto_data['Latitude'], Toronto_data['Longitude'], Toronto_data['neighborhood'], Toronto_data['Postal Code']):\n",
    "    label = '{}, {}'.format(postal_code, neighborhood)\n",
    "    label = folium.Popup(label, parse_html=True)\n",
    "    folium.CircleMarker(\n",
    "        [lat, lng],\n",
    "        radius=5,\n",
    "        popup=label,\n",
    "        color='blue',\n",
    "        fill=True,\n",
    "        fill_color='#3186cc',\n",
    "        fill_opacity=0.7,\n",
    "        parse_html=False).add_to(Toranto_map)  \n",
    "Toranto_map"
   ]
  },
  {
   "cell_type": "code",
   "execution_count": 18,
   "metadata": {},
   "outputs": [],
   "source": [
    "# @hidden_cell\n",
    "CLIENT_ID = '' # your Foursquare ID\n",
    "CLIENT_SECRET = '' # your Foursquare Secret\n",
    "VERSION = '20180605' # Foursquare API version\n",
    "LIMIT = 100 # A default Foursquare API limit value"
   ]
  },
  {
   "source": [
    "<h3> This section will get venue information near each data point so we can use this data to cluster</h3>"
   ],
   "cell_type": "markdown",
   "metadata": {}
  },
  {
   "cell_type": "code",
   "execution_count": 19,
   "metadata": {},
   "outputs": [],
   "source": [
    "#Get venues within 500 meters of Neighborhood locations\n",
    "LIMIT = 100 # limit Foursquare API\n",
    "radius = 500 # define radius\n",
    "# create URL\n",
    "url = 'https://api.foursquare.com/v2/venues/explore?&client_id={}&client_secret={}&v={}&ll={},{}&radius={}&limit={}'.format(\n",
    "    CLIENT_ID, \n",
    "    CLIENT_SECRET, \n",
    "    VERSION, \n",
    "    latitude, \n",
    "    longitude, \n",
    "    radius, \n",
    "    LIMIT)\n",
    "#url # display URL"
   ]
  },
  {
   "cell_type": "code",
   "execution_count": 20,
   "metadata": {},
   "outputs": [],
   "source": [
    "#Get the result Data\n",
    "results = requests.get(url).json()\n",
    "#results #uncomment this line to see raw JSON."
   ]
  },
  {
   "cell_type": "code",
   "execution_count": 21,
   "metadata": {},
   "outputs": [],
   "source": [
    "# function that extracts the category of the venue\n",
    "def get_category_type(row):\n",
    "    try:\n",
    "        categories_list = row['categories']\n",
    "    except:\n",
    "        categories_list = row['venue.categories']\n",
    "        \n",
    "    if len(categories_list) == 0:\n",
    "        return None\n",
    "    else:\n",
    "        return categories_list[0]['name']"
   ]
  },
  {
   "cell_type": "code",
   "execution_count": 22,
   "metadata": {},
   "outputs": [],
   "source": [
    "#Copy Category function\n",
    "# function that extracts the category of the venue\n",
    "def getNearbyVenues(names, latitudes, longitudes, radius=500):\n",
    "    \n",
    "    venues_list=[]\n",
    "    for name, lat, lng in zip(names, latitudes, longitudes):\n",
    "        print(name)\n",
    "            \n",
    "        # create the API request URL\n",
    "        url = 'https://api.foursquare.com/v2/venues/explore?&client_id={}&client_secret={}&v={}&ll={},{}&radius={}&limit={}'.format(\n",
    "            CLIENT_ID, \n",
    "            CLIENT_SECRET, \n",
    "            VERSION, \n",
    "            lat, \n",
    "            lng, \n",
    "            radius, \n",
    "            LIMIT)\n",
    "            \n",
    "        # make the GET request\n",
    "        results = requests.get(url).json()[\"response\"]['groups'][0]['items']\n",
    "        \n",
    "        # return only relevant information for each nearby venue\n",
    "        venues_list.append([(\n",
    "            name, \n",
    "            lat, \n",
    "            lng, \n",
    "            v['venue']['name'], \n",
    "            v['venue']['location']['lat'], \n",
    "            v['venue']['location']['lng'],  \n",
    "            v['venue']['categories'][0]['name']) for v in results])\n",
    "\n",
    "    nearby_venues = pd.DataFrame([item for venue_list in venues_list for item in venue_list])\n",
    "    nearby_venues.columns = ['Neighborhood', \n",
    "                  'Neighborhood Latitude', \n",
    "                  'Neighborhood Longitude', \n",
    "                  'Venue', \n",
    "                  'Venue Latitude', \n",
    "                  'Venue Longitude', \n",
    "                  'Venue Category']\n",
    "    \n",
    "    return(nearby_venues)"
   ]
  },
  {
   "cell_type": "code",
   "execution_count": 23,
   "metadata": {},
   "outputs": [
    {
     "output_type": "execute_result",
     "data": {
      "text/plain": [
       "                     name       categories        lat        lng\n",
       "0        Downtown Toronto     Neighborhood  43.653232 -79.385296\n",
       "1  Nathan Phillips Square            Plaza  43.652270 -79.383516\n",
       "2                  Indigo        Bookstore  43.653515 -79.380696\n",
       "3               Poke Guys       Poke Place  43.654895 -79.385052\n",
       "4            Chatime 日出茶太  Bubble Tea Shop  43.655542 -79.384684"
      ],
      "text/html": "<div>\n<style scoped>\n    .dataframe tbody tr th:only-of-type {\n        vertical-align: middle;\n    }\n\n    .dataframe tbody tr th {\n        vertical-align: top;\n    }\n\n    .dataframe thead th {\n        text-align: right;\n    }\n</style>\n<table border=\"1\" class=\"dataframe\">\n  <thead>\n    <tr style=\"text-align: right;\">\n      <th></th>\n      <th>name</th>\n      <th>categories</th>\n      <th>lat</th>\n      <th>lng</th>\n    </tr>\n  </thead>\n  <tbody>\n    <tr>\n      <th>0</th>\n      <td>Downtown Toronto</td>\n      <td>Neighborhood</td>\n      <td>43.653232</td>\n      <td>-79.385296</td>\n    </tr>\n    <tr>\n      <th>1</th>\n      <td>Nathan Phillips Square</td>\n      <td>Plaza</td>\n      <td>43.652270</td>\n      <td>-79.383516</td>\n    </tr>\n    <tr>\n      <th>2</th>\n      <td>Indigo</td>\n      <td>Bookstore</td>\n      <td>43.653515</td>\n      <td>-79.380696</td>\n    </tr>\n    <tr>\n      <th>3</th>\n      <td>Poke Guys</td>\n      <td>Poke Place</td>\n      <td>43.654895</td>\n      <td>-79.385052</td>\n    </tr>\n    <tr>\n      <th>4</th>\n      <td>Chatime 日出茶太</td>\n      <td>Bubble Tea Shop</td>\n      <td>43.655542</td>\n      <td>-79.384684</td>\n    </tr>\n  </tbody>\n</table>\n</div>"
     },
     "metadata": {},
     "execution_count": 23
    }
   ],
   "source": [
    "#Get and normalize venues\n",
    "venues = results['response']['groups'][0]['items']\n",
    "    \n",
    "nearby_venues = json_normalize(venues) # flatten JSON\n",
    "\n",
    "# filter columns\n",
    "filtered_columns = ['venue.name', 'venue.categories', 'venue.location.lat', 'venue.location.lng']\n",
    "nearby_venues =nearby_venues.loc[:, filtered_columns]\n",
    "\n",
    "# filter the category for each row\n",
    "nearby_venues['venue.categories'] = nearby_venues.apply(get_category_type, axis=1)\n",
    "\n",
    "# clean columns\n",
    "nearby_venues.columns = [col.split(\".\")[-1] for col in nearby_venues.columns]\n",
    "\n",
    "nearby_venues.head()"
   ]
  },
  {
   "cell_type": "code",
   "execution_count": 24,
   "metadata": {},
   "outputs": [
    {
     "output_type": "stream",
     "name": "stdout",
     "text": [
      "Downtown Toronto\n",
      "Downtown Toronto\n",
      "Downtown Toronto\n",
      "Downtown Toronto\n",
      "East Toronto\n",
      "Downtown Toronto\n",
      "Downtown Toronto\n",
      "Downtown Toronto\n",
      "Downtown Toronto\n",
      "West Toronto\n",
      "Downtown Toronto\n",
      "West Toronto\n",
      "East Toronto\n",
      "Downtown Toronto\n",
      "West Toronto\n",
      "East Toronto\n",
      "Downtown Toronto\n",
      "East Toronto\n",
      "Central Toronto\n",
      "Central Toronto\n",
      "Central Toronto\n",
      "Central Toronto\n",
      "West Toronto\n",
      "Central Toronto\n",
      "Central Toronto\n",
      "West Toronto\n",
      "Central Toronto\n",
      "Downtown Toronto\n",
      "West Toronto\n",
      "Central Toronto\n",
      "Downtown Toronto\n",
      "Central Toronto\n",
      "Downtown Toronto\n",
      "Downtown Toronto\n",
      "Downtown Toronto\n",
      "Downtown Toronto\n",
      "Downtown Toronto\n",
      "Downtown Toronto\n",
      "East Toronto\n"
     ]
    }
   ],
   "source": [
    "#Call Function and run against our neighborhood list\n",
    "Toronto_venues = getNearbyVenues(names=Toronto_data['neighborhood'],\n",
    "                                   latitudes=Toronto_data['Latitude'],\n",
    "                                   longitudes=Toronto_data['Longitude']\n",
    "                                  )"
   ]
  },
  {
   "cell_type": "code",
   "execution_count": 25,
   "metadata": {},
   "outputs": [
    {
     "output_type": "stream",
     "name": "stdout",
     "text": [
      "(1752, 7)\n       Neighborhood  Neighborhood Latitude  Neighborhood Longitude  \\\n0  Downtown Toronto               43.65512               -79.36264   \n1  Downtown Toronto               43.65512               -79.36264   \n2  Downtown Toronto               43.65512               -79.36264   \n3  Downtown Toronto               43.65512               -79.36264   \n4  Downtown Toronto               43.65512               -79.36264   \n\n                    Venue  Venue Latitude  Venue Longitude  Venue Category  \n0        Roselle Desserts       43.653447       -79.362017          Bakery  \n1           Tandem Coffee       43.653559       -79.361809     Coffee Shop  \n2  Figs Breakfast & Lunch       43.655675       -79.364503  Breakfast Spot  \n3         The Yoga Lounge       43.655515       -79.364955     Yoga Studio  \n4     Body Blitz Spa East       43.654735       -79.359874             Spa  \n                  Neighborhood Latitude  Neighborhood Longitude  Venue  \\\nNeighborhood                                                             \nCentral Toronto                      72                      72     72   \nDowntown Toronto                   1248                    1248   1248   \nEast Toronto                        182                     182    182   \nWest Toronto                        250                     250    250   \n\n                  Venue Latitude  Venue Longitude  Venue Category  \nNeighborhood                                                       \nCentral Toronto               72               72              72  \nDowntown Toronto            1248             1248            1248  \nEast Toronto                 182              182             182  \nWest Toronto                 250              250             250  \nThere are 232 uniques categories.\n"
     ]
    }
   ],
   "source": [
    "#Print information about neigborhood venues\n",
    "print(Toronto_venues.shape)\n",
    "print(Toronto_venues.head())\n",
    "print(Toronto_venues.groupby('Neighborhood').count())\n",
    "print('There are {} uniques categories.'.format(len(Toronto_venues['Venue Category'].unique())))\n"
   ]
  },
  {
   "cell_type": "code",
   "execution_count": 26,
   "metadata": {},
   "outputs": [
    {
     "output_type": "stream",
     "name": "stdout",
     "text": [
      "(1752, 232)\n(4, 232)\n"
     ]
    }
   ],
   "source": [
    "# one hot encoding\n",
    "Toronto_onehot = pd.get_dummies(Toronto_venues[['Venue Category']], prefix=\"\", prefix_sep=\"\")\n",
    "\n",
    "# add neighborhood column back to dataframe\n",
    "Toronto_onehot['Neighborhood'] = Toronto_venues['Neighborhood'] \n",
    "\n",
    "# move neighborhood column to the first column\n",
    "fixed_columns = [Toronto_onehot.columns[-1]] + list(Toronto_onehot.columns[:-1])\n",
    "Toronto_onehot = Toronto_onehot[fixed_columns]\n",
    "print(Toronto_onehot.shape)\n",
    "Toronto_grouped = Toronto_onehot.groupby('Neighborhood').mean().reset_index()\n",
    "print(Toronto_grouped.shape)\n",
    "#Toronto_grouped"
   ]
  },
  {
   "cell_type": "code",
   "execution_count": 27,
   "metadata": {},
   "outputs": [
    {
     "output_type": "stream",
     "name": "stdout",
     "text": [
      "----Central Toronto----\n            venue  freq\n0  Sandwich Place  0.07\n1     Coffee Shop  0.07\n2            Park  0.06\n3            Café  0.06\n4     Pizza Place  0.04\n\n\n----Downtown Toronto----\n                 venue  freq\n0          Coffee Shop  0.10\n1                 Café  0.05\n2                Hotel  0.04\n3           Restaurant  0.04\n4  Japanese Restaurant  0.03\n\n\n----East Toronto----\n                venue  freq\n0         Coffee Shop  0.08\n1  Italian Restaurant  0.04\n2               Hotel  0.03\n3    Sushi Restaurant  0.03\n4                 Pub  0.03\n\n\n----West Toronto----\n         venue  freq\n0  Coffee Shop  0.06\n1         Café  0.05\n2   Restaurant  0.04\n3          Bar  0.04\n4       Bakery  0.04\n\n\n"
     ]
    }
   ],
   "source": [
    "#Get top 5 venues per Neighborhood\n",
    "num_top_venues = 5\n",
    "for hood in Toronto_grouped['Neighborhood']:\n",
    "    print(\"----\"+hood+\"----\")\n",
    "    temp = Toronto_grouped[Toronto_grouped['Neighborhood'] == hood].T.reset_index()\n",
    "    temp.columns = ['venue','freq']\n",
    "    temp = temp.iloc[1:]\n",
    "    temp['freq'] = temp['freq'].astype(float)\n",
    "    temp = temp.round({'freq': 2})\n",
    "    print(temp.sort_values('freq', ascending=False).reset_index(drop=True).head(num_top_venues))\n",
    "    print('\\n')"
   ]
  },
  {
   "cell_type": "code",
   "execution_count": 28,
   "metadata": {},
   "outputs": [],
   "source": [
    "def return_most_common_venues(row, num_top_venues):\n",
    "    row_categories = row.iloc[1:]\n",
    "    row_categories_sorted = row_categories.sort_values(ascending=False)\n",
    "    \n",
    "    return row_categories_sorted.index.values[0:num_top_venues]"
   ]
  },
  {
   "cell_type": "code",
   "execution_count": 29,
   "metadata": {},
   "outputs": [
    {
     "output_type": "execute_result",
     "data": {
      "text/plain": [
       "       Neighborhood 1st Most Common Venue 2nd Most Common Venue  \\\n",
       "0   Central Toronto        Sandwich Place           Coffee Shop   \n",
       "1  Downtown Toronto           Coffee Shop                  Café   \n",
       "2      East Toronto           Coffee Shop    Italian Restaurant   \n",
       "3      West Toronto           Coffee Shop                  Café   \n",
       "\n",
       "  3rd Most Common Venue 4th Most Common Venue 5th Most Common Venue  \\\n",
       "0                  Park                  Café          Dessert Shop   \n",
       "1                 Hotel            Restaurant   Japanese Restaurant   \n",
       "2           Pizza Place                   Pub                 Hotel   \n",
       "3                   Bar                Bakery            Restaurant   \n",
       "\n",
       "  6th Most Common Venue 7th Most Common Venue 8th Most Common Venue  \\\n",
       "0    Italian Restaurant           Pizza Place    Light Rail Station   \n",
       "1    Italian Restaurant                   Gym                Bakery   \n",
       "2      Sushi Restaurant                  Park            Restaurant   \n",
       "3           Pizza Place                  Park             Gift Shop   \n",
       "\n",
       "  9th Most Common Venue 10th Most Common Venue  \n",
       "0            Playground      Indian Restaurant  \n",
       "1    Seafood Restaurant                   Park  \n",
       "2                   Bar                    Gym  \n",
       "3        Sandwich Place     Italian Restaurant  "
      ],
      "text/html": "<div>\n<style scoped>\n    .dataframe tbody tr th:only-of-type {\n        vertical-align: middle;\n    }\n\n    .dataframe tbody tr th {\n        vertical-align: top;\n    }\n\n    .dataframe thead th {\n        text-align: right;\n    }\n</style>\n<table border=\"1\" class=\"dataframe\">\n  <thead>\n    <tr style=\"text-align: right;\">\n      <th></th>\n      <th>Neighborhood</th>\n      <th>1st Most Common Venue</th>\n      <th>2nd Most Common Venue</th>\n      <th>3rd Most Common Venue</th>\n      <th>4th Most Common Venue</th>\n      <th>5th Most Common Venue</th>\n      <th>6th Most Common Venue</th>\n      <th>7th Most Common Venue</th>\n      <th>8th Most Common Venue</th>\n      <th>9th Most Common Venue</th>\n      <th>10th Most Common Venue</th>\n    </tr>\n  </thead>\n  <tbody>\n    <tr>\n      <th>0</th>\n      <td>Central Toronto</td>\n      <td>Sandwich Place</td>\n      <td>Coffee Shop</td>\n      <td>Park</td>\n      <td>Café</td>\n      <td>Dessert Shop</td>\n      <td>Italian Restaurant</td>\n      <td>Pizza Place</td>\n      <td>Light Rail Station</td>\n      <td>Playground</td>\n      <td>Indian Restaurant</td>\n    </tr>\n    <tr>\n      <th>1</th>\n      <td>Downtown Toronto</td>\n      <td>Coffee Shop</td>\n      <td>Café</td>\n      <td>Hotel</td>\n      <td>Restaurant</td>\n      <td>Japanese Restaurant</td>\n      <td>Italian Restaurant</td>\n      <td>Gym</td>\n      <td>Bakery</td>\n      <td>Seafood Restaurant</td>\n      <td>Park</td>\n    </tr>\n    <tr>\n      <th>2</th>\n      <td>East Toronto</td>\n      <td>Coffee Shop</td>\n      <td>Italian Restaurant</td>\n      <td>Pizza Place</td>\n      <td>Pub</td>\n      <td>Hotel</td>\n      <td>Sushi Restaurant</td>\n      <td>Park</td>\n      <td>Restaurant</td>\n      <td>Bar</td>\n      <td>Gym</td>\n    </tr>\n    <tr>\n      <th>3</th>\n      <td>West Toronto</td>\n      <td>Coffee Shop</td>\n      <td>Café</td>\n      <td>Bar</td>\n      <td>Bakery</td>\n      <td>Restaurant</td>\n      <td>Pizza Place</td>\n      <td>Park</td>\n      <td>Gift Shop</td>\n      <td>Sandwich Place</td>\n      <td>Italian Restaurant</td>\n    </tr>\n  </tbody>\n</table>\n</div>"
     },
     "metadata": {},
     "execution_count": 29
    }
   ],
   "source": [
    "num_top_venues = 10\n",
    "indicators = ['st', 'nd', 'rd']\n",
    "# create columns according to number of top venues\n",
    "columns = ['Neighborhood']\n",
    "for ind in np.arange(num_top_venues):\n",
    "    try:\n",
    "        columns.append('{}{} Most Common Venue'.format(ind+1, indicators[ind]))\n",
    "    except:\n",
    "        columns.append('{}th Most Common Venue'.format(ind+1))\n",
    "\n",
    "# create a new dataframe\n",
    "neighborhoods_venues_sorted = pd.DataFrame(columns=columns)\n",
    "neighborhoods_venues_sorted['Neighborhood'] = Toronto_grouped['Neighborhood']\n",
    "\n",
    "for ind in np.arange(Toronto_grouped.shape[0]):\n",
    "    neighborhoods_venues_sorted.iloc[ind, 1:] = return_most_common_venues(Toronto_grouped.iloc[ind, :], num_top_venues)\n",
    "\n",
    "neighborhoods_venues_sorted.head(4)"
   ]
  },
  {
   "source": [
    "<h3>Above is the dataframe of the venues that we will use for  K-means,/h3>\n",
    "<h3> </h3>\n",
    "<h2 align=\"center\">Starting Clustering </h2>"
   ],
   "cell_type": "markdown",
   "metadata": {}
  },
  {
   "source": [
    "<h3>1 Set the number of centroids and kmeans algorythm </h3>\n",
    "<h3>2 Add the clustering labels = venues by neighborhood </h3>\n",
    "<h3>3 Create a map of the data </h3>"
   ],
   "cell_type": "markdown",
   "metadata": {}
  },
  {
   "cell_type": "code",
   "execution_count": 30,
   "metadata": {},
   "outputs": [
    {
     "output_type": "execute_result",
     "data": {
      "text/plain": [
       "array([2, 0, 3, 1])"
      ]
     },
     "metadata": {},
     "execution_count": 30
    }
   ],
   "source": [
    "# set number of clusters\n",
    "kmc = 4\n",
    "\n",
    "Toronto_grouped_clustering = Toronto_grouped.drop('Neighborhood', 1)\n",
    "\n",
    "# run k-means clustering\n",
    "kmeans = KMeans(n_clusters=kmc, random_state=6).fit(Toronto_grouped_clustering)\n",
    "\n",
    "# check cluster labels generated for each row in the dataframe\n",
    "kmeans.labels_[0:10] "
   ]
  },
  {
   "cell_type": "code",
   "execution_count": 31,
   "metadata": {},
   "outputs": [
    {
     "output_type": "execute_result",
     "data": {
      "text/plain": [
       "  Postal Code      neighborhood  Latitude  Longitude  Cluster Labels  \\\n",
       "0         M5A  Downtown Toronto  43.65512  -79.36264               0   \n",
       "1         M7A  Downtown Toronto  43.66253  -79.39188               0   \n",
       "2         M5B  Downtown Toronto  43.65739  -79.37804               0   \n",
       "3         M5C  Downtown Toronto  43.65215  -79.37587               0   \n",
       "4         M4E      East Toronto  43.67709  -79.29547               3   \n",
       "\n",
       "  1st Most Common Venue 2nd Most Common Venue 3rd Most Common Venue  \\\n",
       "0           Coffee Shop                  Café                 Hotel   \n",
       "1           Coffee Shop                  Café                 Hotel   \n",
       "2           Coffee Shop                  Café                 Hotel   \n",
       "3           Coffee Shop                  Café                 Hotel   \n",
       "4           Coffee Shop    Italian Restaurant           Pizza Place   \n",
       "\n",
       "  4th Most Common Venue 5th Most Common Venue 6th Most Common Venue  \\\n",
       "0            Restaurant   Japanese Restaurant    Italian Restaurant   \n",
       "1            Restaurant   Japanese Restaurant    Italian Restaurant   \n",
       "2            Restaurant   Japanese Restaurant    Italian Restaurant   \n",
       "3            Restaurant   Japanese Restaurant    Italian Restaurant   \n",
       "4                   Pub                 Hotel      Sushi Restaurant   \n",
       "\n",
       "  7th Most Common Venue 8th Most Common Venue 9th Most Common Venue  \\\n",
       "0                   Gym                Bakery    Seafood Restaurant   \n",
       "1                   Gym                Bakery    Seafood Restaurant   \n",
       "2                   Gym                Bakery    Seafood Restaurant   \n",
       "3                   Gym                Bakery    Seafood Restaurant   \n",
       "4                  Park            Restaurant                   Bar   \n",
       "\n",
       "  10th Most Common Venue  \n",
       "0                   Park  \n",
       "1                   Park  \n",
       "2                   Park  \n",
       "3                   Park  \n",
       "4                    Gym  "
      ],
      "text/html": "<div>\n<style scoped>\n    .dataframe tbody tr th:only-of-type {\n        vertical-align: middle;\n    }\n\n    .dataframe tbody tr th {\n        vertical-align: top;\n    }\n\n    .dataframe thead th {\n        text-align: right;\n    }\n</style>\n<table border=\"1\" class=\"dataframe\">\n  <thead>\n    <tr style=\"text-align: right;\">\n      <th></th>\n      <th>Postal Code</th>\n      <th>neighborhood</th>\n      <th>Latitude</th>\n      <th>Longitude</th>\n      <th>Cluster Labels</th>\n      <th>1st Most Common Venue</th>\n      <th>2nd Most Common Venue</th>\n      <th>3rd Most Common Venue</th>\n      <th>4th Most Common Venue</th>\n      <th>5th Most Common Venue</th>\n      <th>6th Most Common Venue</th>\n      <th>7th Most Common Venue</th>\n      <th>8th Most Common Venue</th>\n      <th>9th Most Common Venue</th>\n      <th>10th Most Common Venue</th>\n    </tr>\n  </thead>\n  <tbody>\n    <tr>\n      <th>0</th>\n      <td>M5A</td>\n      <td>Downtown Toronto</td>\n      <td>43.65512</td>\n      <td>-79.36264</td>\n      <td>0</td>\n      <td>Coffee Shop</td>\n      <td>Café</td>\n      <td>Hotel</td>\n      <td>Restaurant</td>\n      <td>Japanese Restaurant</td>\n      <td>Italian Restaurant</td>\n      <td>Gym</td>\n      <td>Bakery</td>\n      <td>Seafood Restaurant</td>\n      <td>Park</td>\n    </tr>\n    <tr>\n      <th>1</th>\n      <td>M7A</td>\n      <td>Downtown Toronto</td>\n      <td>43.66253</td>\n      <td>-79.39188</td>\n      <td>0</td>\n      <td>Coffee Shop</td>\n      <td>Café</td>\n      <td>Hotel</td>\n      <td>Restaurant</td>\n      <td>Japanese Restaurant</td>\n      <td>Italian Restaurant</td>\n      <td>Gym</td>\n      <td>Bakery</td>\n      <td>Seafood Restaurant</td>\n      <td>Park</td>\n    </tr>\n    <tr>\n      <th>2</th>\n      <td>M5B</td>\n      <td>Downtown Toronto</td>\n      <td>43.65739</td>\n      <td>-79.37804</td>\n      <td>0</td>\n      <td>Coffee Shop</td>\n      <td>Café</td>\n      <td>Hotel</td>\n      <td>Restaurant</td>\n      <td>Japanese Restaurant</td>\n      <td>Italian Restaurant</td>\n      <td>Gym</td>\n      <td>Bakery</td>\n      <td>Seafood Restaurant</td>\n      <td>Park</td>\n    </tr>\n    <tr>\n      <th>3</th>\n      <td>M5C</td>\n      <td>Downtown Toronto</td>\n      <td>43.65215</td>\n      <td>-79.37587</td>\n      <td>0</td>\n      <td>Coffee Shop</td>\n      <td>Café</td>\n      <td>Hotel</td>\n      <td>Restaurant</td>\n      <td>Japanese Restaurant</td>\n      <td>Italian Restaurant</td>\n      <td>Gym</td>\n      <td>Bakery</td>\n      <td>Seafood Restaurant</td>\n      <td>Park</td>\n    </tr>\n    <tr>\n      <th>4</th>\n      <td>M4E</td>\n      <td>East Toronto</td>\n      <td>43.67709</td>\n      <td>-79.29547</td>\n      <td>3</td>\n      <td>Coffee Shop</td>\n      <td>Italian Restaurant</td>\n      <td>Pizza Place</td>\n      <td>Pub</td>\n      <td>Hotel</td>\n      <td>Sushi Restaurant</td>\n      <td>Park</td>\n      <td>Restaurant</td>\n      <td>Bar</td>\n      <td>Gym</td>\n    </tr>\n  </tbody>\n</table>\n</div>"
     },
     "metadata": {},
     "execution_count": 31
    }
   ],
   "source": [
    "# add clustering labels\n",
    "neighborhoods_venues_sorted.insert(0, 'Cluster Labels', kmeans.labels_)\n",
    "\n",
    "Toronto_merged = Toronto_data\n",
    "\n",
    "# merge Toronto_grouped with Toronto_data to add latitude/longitude for each neighborhood\n",
    "Toronto_merged = Toronto_merged.join(neighborhoods_venues_sorted.set_index('Neighborhood'), on='neighborhood')\n",
    "\n",
    "Toronto_merged.head() # check the last columns!"
   ]
  },
  {
   "cell_type": "code",
   "execution_count": 32,
   "metadata": {},
   "outputs": [
    {
     "output_type": "execute_result",
     "data": {
      "text/plain": [
       "<folium.folium.Map at 0x2631fb40df0>"
      ],
      "text/html": "<div style=\"width:100%;\"><div style=\"position:relative;width:100%;height:0;padding-bottom:60%;\"><span style=\"color:#565656\">Make this Notebook Trusted to load map: File -> Trust Notebook</span><iframe src=\"about:blank\" style=\"position:absolute;width:100%;height:100%;left:0;top:0;border:none !important;\" data-html=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 onload=\"this.contentDocument.open();this.contentDocument.write(atob(this.getAttribute('data-html')));this.contentDocument.close();\" allowfullscreen webkitallowfullscreen mozallowfullscreen></iframe></div></div>"
     },
     "metadata": {},
     "execution_count": 32
    }
   ],
   "source": [
    "      # create map\n",
    "map_clusters = folium.Map(location=[latitude, longitude], zoom_start=11)\n",
    "\n",
    "# set color scheme for the clusters\n",
    "x = np.arange(kmc)\n",
    "ys = [i + x + (i*x)**2 for i in range(kmc)]\n",
    "colors_array = cm.rainbow(np.linspace(0, 1, len(ys)))\n",
    "rainbow = [colors.rgb2hex(i) for i in colors_array]\n",
    "\n",
    "# add markers to the map\n",
    "markers_colors = []\n",
    "for lat, lon, poi, cluster in zip(Toronto_merged['Latitude'], Toronto_merged['Longitude'], Toronto_merged['neighborhood'], Toronto_merged['Cluster Labels']):\n",
    "    label = folium.Popup(str(poi) + ' Cluster ' + str(cluster), parse_html=True)\n",
    "    folium.CircleMarker(\n",
    "        [lat, lon],\n",
    "        radius=5,\n",
    "        popup=label,\n",
    "        color=rainbow[cluster-1],\n",
    "        fill=True,\n",
    "        fill_color=rainbow[cluster-1],\n",
    "        fill_opacity=0.7).add_to(map_clusters)\n",
    "map_clusters"
   ]
  },
  {
   "source": [
    "<h3>The final four frames show the Most common locations for each cluster</h3>"
   ],
   "cell_type": "markdown",
   "metadata": {}
  },
  {
   "cell_type": "code",
   "execution_count": 33,
   "metadata": {},
   "outputs": [
    {
     "output_type": "stream",
     "name": "stdout",
     "text": [
      "        neighborhood 1st Most Common Venue 2nd Most Common Venue  \\\n0   Downtown Toronto           Coffee Shop                  Café   \n1   Downtown Toronto           Coffee Shop                  Café   \n2   Downtown Toronto           Coffee Shop                  Café   \n3   Downtown Toronto           Coffee Shop                  Café   \n5   Downtown Toronto           Coffee Shop                  Café   \n6   Downtown Toronto           Coffee Shop                  Café   \n7   Downtown Toronto           Coffee Shop                  Café   \n8   Downtown Toronto           Coffee Shop                  Café   \n10  Downtown Toronto           Coffee Shop                  Café   \n13  Downtown Toronto           Coffee Shop                  Café   \n16  Downtown Toronto           Coffee Shop                  Café   \n27  Downtown Toronto           Coffee Shop                  Café   \n30  Downtown Toronto           Coffee Shop                  Café   \n32  Downtown Toronto           Coffee Shop                  Café   \n33  Downtown Toronto           Coffee Shop                  Café   \n34  Downtown Toronto           Coffee Shop                  Café   \n35  Downtown Toronto           Coffee Shop                  Café   \n36  Downtown Toronto           Coffee Shop                  Café   \n37  Downtown Toronto           Coffee Shop                  Café   \n\n   3rd Most Common Venue 4th Most Common Venue 5th Most Common Venue  \\\n0                  Hotel            Restaurant   Japanese Restaurant   \n1                  Hotel            Restaurant   Japanese Restaurant   \n2                  Hotel            Restaurant   Japanese Restaurant   \n3                  Hotel            Restaurant   Japanese Restaurant   \n5                  Hotel            Restaurant   Japanese Restaurant   \n6                  Hotel            Restaurant   Japanese Restaurant   \n7                  Hotel            Restaurant   Japanese Restaurant   \n8                  Hotel            Restaurant   Japanese Restaurant   \n10                 Hotel            Restaurant   Japanese Restaurant   \n13                 Hotel            Restaurant   Japanese Restaurant   \n16                 Hotel            Restaurant   Japanese Restaurant   \n27                 Hotel            Restaurant   Japanese Restaurant   \n30                 Hotel            Restaurant   Japanese Restaurant   \n32                 Hotel            Restaurant   Japanese Restaurant   \n33                 Hotel            Restaurant   Japanese Restaurant   \n34                 Hotel            Restaurant   Japanese Restaurant   \n35                 Hotel            Restaurant   Japanese Restaurant   \n36                 Hotel            Restaurant   Japanese Restaurant   \n37                 Hotel            Restaurant   Japanese Restaurant   \n\n   6th Most Common Venue 7th Most Common Venue 8th Most Common Venue  \\\n0     Italian Restaurant                   Gym                Bakery   \n1     Italian Restaurant                   Gym                Bakery   \n2     Italian Restaurant                   Gym                Bakery   \n3     Italian Restaurant                   Gym                Bakery   \n5     Italian Restaurant                   Gym                Bakery   \n6     Italian Restaurant                   Gym                Bakery   \n7     Italian Restaurant                   Gym                Bakery   \n8     Italian Restaurant                   Gym                Bakery   \n10    Italian Restaurant                   Gym                Bakery   \n13    Italian Restaurant                   Gym                Bakery   \n16    Italian Restaurant                   Gym                Bakery   \n27    Italian Restaurant                   Gym                Bakery   \n30    Italian Restaurant                   Gym                Bakery   \n32    Italian Restaurant                   Gym                Bakery   \n33    Italian Restaurant                   Gym                Bakery   \n34    Italian Restaurant                   Gym                Bakery   \n35    Italian Restaurant                   Gym                Bakery   \n36    Italian Restaurant                   Gym                Bakery   \n37    Italian Restaurant                   Gym                Bakery   \n\n   9th Most Common Venue 10th Most Common Venue  \n0     Seafood Restaurant                   Park  \n1     Seafood Restaurant                   Park  \n2     Seafood Restaurant                   Park  \n3     Seafood Restaurant                   Park  \n5     Seafood Restaurant                   Park  \n6     Seafood Restaurant                   Park  \n7     Seafood Restaurant                   Park  \n8     Seafood Restaurant                   Park  \n10    Seafood Restaurant                   Park  \n13    Seafood Restaurant                   Park  \n16    Seafood Restaurant                   Park  \n27    Seafood Restaurant                   Park  \n30    Seafood Restaurant                   Park  \n32    Seafood Restaurant                   Park  \n33    Seafood Restaurant                   Park  \n34    Seafood Restaurant                   Park  \n35    Seafood Restaurant                   Park  \n36    Seafood Restaurant                   Park  \n37    Seafood Restaurant                   Park  \n"
     ]
    }
   ],
   "source": [
    "print(Toronto_merged.loc[Toronto_merged['Cluster Labels'] == 0, Toronto_merged.columns[[1] + list(range(5, Toronto_merged.shape[1]))]])\n"
   ]
  },
  {
   "cell_type": "code",
   "execution_count": 34,
   "metadata": {},
   "outputs": [
    {
     "output_type": "stream",
     "name": "stdout",
     "text": [
      "    neighborhood 1st Most Common Venue 2nd Most Common Venue  \\\n9   West Toronto           Coffee Shop                  Café   \n11  West Toronto           Coffee Shop                  Café   \n14  West Toronto           Coffee Shop                  Café   \n22  West Toronto           Coffee Shop                  Café   \n25  West Toronto           Coffee Shop                  Café   \n28  West Toronto           Coffee Shop                  Café   \n\n   3rd Most Common Venue 4th Most Common Venue 5th Most Common Venue  \\\n9                    Bar                Bakery            Restaurant   \n11                   Bar                Bakery            Restaurant   \n14                   Bar                Bakery            Restaurant   \n22                   Bar                Bakery            Restaurant   \n25                   Bar                Bakery            Restaurant   \n28                   Bar                Bakery            Restaurant   \n\n   6th Most Common Venue 7th Most Common Venue 8th Most Common Venue  \\\n9            Pizza Place                  Park             Gift Shop   \n11           Pizza Place                  Park             Gift Shop   \n14           Pizza Place                  Park             Gift Shop   \n22           Pizza Place                  Park             Gift Shop   \n25           Pizza Place                  Park             Gift Shop   \n28           Pizza Place                  Park             Gift Shop   \n\n   9th Most Common Venue 10th Most Common Venue  \n9         Sandwich Place     Italian Restaurant  \n11        Sandwich Place     Italian Restaurant  \n14        Sandwich Place     Italian Restaurant  \n22        Sandwich Place     Italian Restaurant  \n25        Sandwich Place     Italian Restaurant  \n28        Sandwich Place     Italian Restaurant  \n"
     ]
    }
   ],
   "source": [
    "print(Toronto_merged.loc[Toronto_merged['Cluster Labels'] == 1, Toronto_merged.columns[[1] + list(range(5, Toronto_merged.shape[1]))]])\n"
   ]
  },
  {
   "cell_type": "code",
   "execution_count": 35,
   "metadata": {},
   "outputs": [
    {
     "output_type": "stream",
     "name": "stdout",
     "text": [
      "       neighborhood 1st Most Common Venue 2nd Most Common Venue  \\\n18  Central Toronto        Sandwich Place           Coffee Shop   \n19  Central Toronto        Sandwich Place           Coffee Shop   \n20  Central Toronto        Sandwich Place           Coffee Shop   \n21  Central Toronto        Sandwich Place           Coffee Shop   \n23  Central Toronto        Sandwich Place           Coffee Shop   \n24  Central Toronto        Sandwich Place           Coffee Shop   \n26  Central Toronto        Sandwich Place           Coffee Shop   \n29  Central Toronto        Sandwich Place           Coffee Shop   \n31  Central Toronto        Sandwich Place           Coffee Shop   \n\n   3rd Most Common Venue 4th Most Common Venue 5th Most Common Venue  \\\n18                  Park                  Café          Dessert Shop   \n19                  Park                  Café          Dessert Shop   \n20                  Park                  Café          Dessert Shop   \n21                  Park                  Café          Dessert Shop   \n23                  Park                  Café          Dessert Shop   \n24                  Park                  Café          Dessert Shop   \n26                  Park                  Café          Dessert Shop   \n29                  Park                  Café          Dessert Shop   \n31                  Park                  Café          Dessert Shop   \n\n   6th Most Common Venue 7th Most Common Venue 8th Most Common Venue  \\\n18    Italian Restaurant           Pizza Place    Light Rail Station   \n19    Italian Restaurant           Pizza Place    Light Rail Station   \n20    Italian Restaurant           Pizza Place    Light Rail Station   \n21    Italian Restaurant           Pizza Place    Light Rail Station   \n23    Italian Restaurant           Pizza Place    Light Rail Station   \n24    Italian Restaurant           Pizza Place    Light Rail Station   \n26    Italian Restaurant           Pizza Place    Light Rail Station   \n29    Italian Restaurant           Pizza Place    Light Rail Station   \n31    Italian Restaurant           Pizza Place    Light Rail Station   \n\n   9th Most Common Venue 10th Most Common Venue  \n18            Playground      Indian Restaurant  \n19            Playground      Indian Restaurant  \n20            Playground      Indian Restaurant  \n21            Playground      Indian Restaurant  \n23            Playground      Indian Restaurant  \n24            Playground      Indian Restaurant  \n26            Playground      Indian Restaurant  \n29            Playground      Indian Restaurant  \n31            Playground      Indian Restaurant  \n"
     ]
    }
   ],
   "source": [
    "print(Toronto_merged.loc[Toronto_merged['Cluster Labels'] == 2, Toronto_merged.columns[[1] + list(range(5, Toronto_merged.shape[1]))]])\n"
   ]
  },
  {
   "cell_type": "code",
   "execution_count": 36,
   "metadata": {},
   "outputs": [
    {
     "output_type": "stream",
     "name": "stdout",
     "text": [
      "    neighborhood 1st Most Common Venue 2nd Most Common Venue  \\\n4   East Toronto           Coffee Shop    Italian Restaurant   \n12  East Toronto           Coffee Shop    Italian Restaurant   \n15  East Toronto           Coffee Shop    Italian Restaurant   \n17  East Toronto           Coffee Shop    Italian Restaurant   \n38  East Toronto           Coffee Shop    Italian Restaurant   \n\n   3rd Most Common Venue 4th Most Common Venue 5th Most Common Venue  \\\n4            Pizza Place                   Pub                 Hotel   \n12           Pizza Place                   Pub                 Hotel   \n15           Pizza Place                   Pub                 Hotel   \n17           Pizza Place                   Pub                 Hotel   \n38           Pizza Place                   Pub                 Hotel   \n\n   6th Most Common Venue 7th Most Common Venue 8th Most Common Venue  \\\n4       Sushi Restaurant                  Park            Restaurant   \n12      Sushi Restaurant                  Park            Restaurant   \n15      Sushi Restaurant                  Park            Restaurant   \n17      Sushi Restaurant                  Park            Restaurant   \n38      Sushi Restaurant                  Park            Restaurant   \n\n   9th Most Common Venue 10th Most Common Venue  \n4                    Bar                    Gym  \n12                   Bar                    Gym  \n15                   Bar                    Gym  \n17                   Bar                    Gym  \n38                   Bar                    Gym  \n"
     ]
    }
   ],
   "source": [
    "print(Toronto_merged.loc[Toronto_merged['Cluster Labels'] == 3, Toronto_merged.columns[[1] + list(range(5, Toronto_merged.shape[1]))]])"
   ]
  },
  {
   "source": [
    "<h2 align=\"center\">End of Notebook: Be kind when grading</h2>"
   ],
   "cell_type": "markdown",
   "metadata": {}
  }
 ]
}